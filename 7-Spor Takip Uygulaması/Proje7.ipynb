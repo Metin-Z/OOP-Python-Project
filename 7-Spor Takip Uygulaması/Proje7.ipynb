import tkinter as tk
from tkinter import messagebox

class Sporcu:
    def __init__(self, ad, soyad):
        self.ad = ad
        self.soyad = soyad
        self.antrenmanlar = []

    def antrenman_ekle(self, antrenman):
        self.antrenmanlar.append(antrenman)

    def antrenman_sil(self, antrenman):
        self.antrenmanlar.remove(antrenman)

    def mevcut_antrenmanlar(self):
        return self.antrenmanlar

class Antrenman:
    def __init__(self, antrenman_adi, antrenman_tarihi, antrenman_suresi):
        self.antrenman_adi = antrenman_adi
        self.antrenman_tarihi = antrenman_tarihi
        self.antrenman_suresi = antrenman_suresi

class Takip:
    def __init__(self):
        self.sporcular = []

    def sporcu_ekle(self, sporcu):
        self.sporcular.append(sporcu)

    def sporcu_bul(self, ad):
        for sporcu in self.sporcular:
            if sporcu.ad == ad:
                return sporcu
        return None

class AntrenmanArayuzu:
    def __init__(self, takip_sistemi):
        self.takip_sistemi = takip_sistemi
        self.ana_pencere = tk.Tk()
        self.ana_pencere.title("Antrenman Takip Sistemi")

        self.antrenman_secim_cerceve = tk.LabelFrame(self.ana_pencere, text="Antrenman Ekle", padx=20, pady=10, borderwidth=2, relief="groove", bg="#f0f0f0")
        self.antrenman_secim_cerceve.pack(fill="both", expand="yes", padx=20, pady=10)

        self.sporcu_ad_label = tk.Label(self.antrenman_secim_cerceve, text="Sporcu Adı:", bg="#f0f0f0", font=("Arial", 12))
        self.sporcu_ad_label.grid(row=0, column=0, sticky="w", padx=5, pady=5)
        self.sporcu_ad_entry = tk.Entry(self.antrenman_secim_cerceve, font=("Arial", 12))
        self.sporcu_ad_entry.grid(row=0, column=1, padx=5, pady=5)

        self.antrenman_adi_label = tk.Label(self.antrenman_secim_cerceve, text="Antrenman Adı:", bg="#f0f0f0", font=("Arial", 12))
        self.antrenman_adi_label.grid(row=1, column=0, sticky="w", padx=5, pady=5)
        self.antrenman_adi_entry = tk.Entry(self.antrenman_secim_cerceve, font=("Arial", 12))
        self.antrenman_adi_entry.grid(row=1, column=1, padx=5, pady=5)

        self.antrenman_tarihi_label = tk.Label(self.antrenman_secim_cerceve, text="Tarih:", bg="#f0f0f0", font=("Arial", 12))
        self.antrenman_tarihi_label.grid(row=2, column=0, sticky="w", padx=5, pady=5)
        self.antrenman_tarihi_entry = tk.Entry(self.antrenman_secim_cerceve, font=("Arial", 12))
        self.antrenman_tarihi_entry.grid(row=2, column=1, padx=5, pady=5)

        self.antrenman_suresi_label = tk.Label(self.antrenman_secim_cerceve, text="Süre (Dakika):", bg="#f0f0f0", font=("Arial", 12))
        self.antrenman_suresi_label.grid(row=3, column=0, sticky="w", padx=5, pady=5)
        self.antrenman_suresi_entry = tk.Entry(self.antrenman_secim_cerceve, font=("Arial", 12))
        self.antrenman_suresi_entry.grid(row=3, column=1, padx=5, pady=5)

        self.ekle_button = tk.Button(self.antrenman_secim_cerceve, text="Antrenman Ekle", command=self.antrenman_ekle, font=("Arial", 12), bg="#4CAF50", fg="white", relief="raised", padx=10, pady=5)
        self.ekle_button.grid(row=4, columnspan=2, padx=5, pady=5)

        self.mevcut_antrenmanlar_button = tk.Button(self.ana_pencere, text="Mevcut Antrenmanları Göster", command=self.mevcut_antrenmanlari_goster, font=("Arial", 12), bg="#008CBA", fg="white", relief="raised", padx=10, pady=5)
        self.mevcut_antrenmanlar_button.pack(pady=5)

        self.antrenmanlar_pencere = None

    def antrenman_ekle(self):
        sporcu_ad = self.sporcu_ad_entry.get()
        antrenman_adi = self.antrenman_adi_entry.get()
        antrenman_tarihi = self.antrenman_tarihi_entry.get()
        antrenman_suresi = self.antrenman_suresi_entry.get()

        if sporcu_ad and antrenman_adi and antrenman_tarihi and antrenman_suresi:
            sporcu = self.takip_sistemi.sporcu_bul(sporcu_ad)
            if not sporcu:
                sporcu = Sporcu(sporcu_ad, "")
                self.takip_sistemi.sporcu_ekle(sporcu)
            antrenman = Antrenman(antrenman_adi, antrenman_tarihi, antrenman_suresi + " Dakika")
            sporcu.antrenman_ekle(antrenman)
            messagebox.showinfo("Başarılı", f"{sporcu_ad} için '{antrenman_adi}' antrenmanı başarıyla eklendi.")
        else:
            messagebox.showerror("Hata", "Lütfen tüm alanları doldurun.")

    def mevcut_antrenmanlari_goster(self):
        if self.antrenmanlar_pencere is None:
            for sporcu in self.takip_sistemi.sporcular:
                mevcut_antrenmanlar = sporcu.mevcut_antrenmanlar()
                if mevcut_antrenmanlar:
                    self.antrenmanlar_pencere = tk.Toplevel()
                    self.antrenmanlar_pencere.title("Mevcut Antrenmanlar")
                    self.antrenmanlar_pencere.protocol("WM_DELETE_WINDOW", self.kapat)
                    for antrenman in mevcut_antrenmanlar:
                        antrenman_frame = tk.Frame(self.antrenmanlar_pencere, padx=10, pady=5, bg="#f0f0f0")
                        antrenman_frame.pack()
                        antrenman_label = tk.Label(antrenman_frame, text=f"Sporcu: {sporcu.ad}, Antrenman Adı: {antrenman.antrenman_adi}, Tarih: {antrenman.antrenman_tarihi}, Süre: {antrenman.antrenman_suresi}", font=("Arial", 12), bg="#f0f0f0")
                        antrenman_label.pack(side=tk.LEFT)
                        sil_button = tk.Button(antrenman_frame, text="Sil", command=lambda antrenman=antrenman, frame=antrenman_frame: self.antrenman_sil(sporcu, antrenman, frame), font=("Arial", 10), bg="#f44336", fg="white", relief="raised", padx=5, pady=2)
                        sil_button.pack(side=tk.RIGHT)
                else:
                    messagebox.showinfo("Bilgi", f"{sporcu.ad} için mevcut antrenman bulunmamaktadır.")
        else:
            self.antrenmanlar_pencere.focus_force()

    def antrenman_sil(self, sporcu, antrenman, antrenman_frame):
        sporcu.antrenman_sil(antrenman)
        antrenman_frame.destroy()
        messagebox.showinfo("Başarılı", "Antrenman başarıyla silindi.")

    def kapat(self):
        self.antrenmanlar_pencere.destroy()
        self.antrenmanlar_pencere = None

if __name__ == "__main__":
    takip_sistemi = Takip()
    arayuz = AntrenmanArayuzu(takip_sistemi)
    arayuz.ana_pencere.mainloop()
